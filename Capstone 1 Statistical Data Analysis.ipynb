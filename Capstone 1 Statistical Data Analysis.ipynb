{
 "cells": [
  {
   "cell_type": "markdown",
   "metadata": {},
   "source": [
    "# Capstone 1 Statistical Data Analysis\n",
    "## Predicting Prediabetes with Machine Learning\n",
    "## NHANES Data 2007-2016"
   ]
  },
  {
   "cell_type": "code",
   "execution_count": 1,
   "metadata": {},
   "outputs": [],
   "source": [
    "import numpy as np\n",
    "import pandas as pd\n",
    "import seaborn as sns\n",
    "import matplotlib.pyplot as plt\n",
    "import scipy.stats as stats"
   ]
  },
  {
   "cell_type": "code",
   "execution_count": 2,
   "metadata": {},
   "outputs": [],
   "source": [
    "# Load data\n",
    "\n",
    "dtype_dict = {'SEQN': int}\n",
    "demo_dtype_dict = {\"SEQN\": int, \"SDDSRVYR\": int, \"RIDSTATR\": int, \"RIAGENDR\": int, \"RIDAGEYR\": int, \n",
    "                   \"RIDRETH1\": int, \"DMDHHSIZ\": int, \"DMDFMSIZ\": int, \n",
    "                   \"DMDHRGND\": int, \"DMDHRAGE\": int, \"SDMVPSU\": int, \"SDMVSTRA\": int}\n",
    "ques_dtype_dict = {\"SEQN\": int, \"SMDUPCA\": object, \"SMD100BR\": object}\n",
    "\n",
    "demo = pd.read_csv('data/demo_all.csv', dtype=demo_dtype_dict)\n",
    "diet = pd.read_csv('data/diet_all.csv', dtype=dtype_dict)\n",
    "exam = pd.read_csv('data/exam_all.csv', dtype=dtype_dict)\n",
    "labs = pd.read_csv('data/labs_all.csv', dtype=dtype_dict)\n",
    "meds = pd.read_csv('data/meds_all.csv', dtype=dtype_dict)\n",
    "ques = pd.read_csv('data/questionnaire_all.csv', dtype=ques_dtype_dict)"
   ]
  },
  {
   "cell_type": "code",
   "execution_count": 3,
   "metadata": {},
   "outputs": [
    {
     "data": {
      "text/plain": [
       "0.0    17476\n",
       "1.0    10939\n",
       "2.0     4087\n",
       "Name: DIAB, dtype: int64"
      ]
     },
     "execution_count": 3,
     "metadata": {},
     "output_type": "execute_result"
    }
   ],
   "source": [
    "def set_diab(row):\n",
    "    \"\"\"\n",
    "    Return integer indicator for diabetes diagnosis criteria or NaN if no test results found.\n",
    "        2 = Diabetes\n",
    "        1 = Prediabetes\n",
    "        0 = No Diabetes\n",
    "        NaN = No test results found\n",
    "        \n",
    "    Input: row from labs table including three diagnostics tests for diabetes: \n",
    "               LBXGH: Fasting Plasma Glucose, \n",
    "               LBXGLU: Glycohemoglobin (HbA1c),\n",
    "               LBXGLT: Oral Glucose Tolerance Test\n",
    "    \"\"\"\n",
    "    if (np.isnan(row['LBXGH']) and np.isnan(row['LBXGLU']) and np.isnan(row['LBXGLT'])):\n",
    "        return np.NaN\n",
    "    # Use American Diabetes Association's diagnosis criteria. \n",
    "    if (row['LBXGH'] >= 6.5) or (row['LBXGLU'] >= 126) or (row['LBXGLT'] >= 200):\n",
    "        return 2\n",
    "    elif (row['LBXGH'] >= 5.7 or row['LBXGLU'] >= 100 or row['LBXGLT'] >= 140):\n",
    "        return 1\n",
    "    else:\n",
    "        return 0\n",
    "\n",
    "\n",
    "labs = labs.assign(DIAB=labs.apply(set_diab, axis=1))\n",
    "labs.DIAB.value_counts()"
   ]
  },
  {
   "cell_type": "markdown",
   "metadata": {},
   "source": [
    "## Investigate the null hypotheses that the means of various laboratory test results and physical exam markers are the same regardless of diabetes diagnosis indicator.  \n",
    "\n",
    "We have already shown in the EDA notebook that the three lab tests used to diagnose diabetes and prediabetes are moderately to strongly correlated to each other. We also know that there is an upward trend of at least one of those tests with age. Let us now focus on several risk factors for and side effects of diabetes published in the literature and explore whether or not this data reflects a relationship between those risk factors/side effects and meeting diagnostic criteria for prediabetes and diabetes."
   ]
  },
  {
   "cell_type": "markdown",
   "metadata": {},
   "source": [
    "## Look at gender, diagnosed hypertension, moderate activity, and marital status categorical markers. "
   ]
  },
  {
   "cell_type": "markdown",
   "metadata": {},
   "source": [
    "### Test 1:\n",
    "> __$H_{0}$: There is no statistically significant relationship between gender and diabetes diagnosis.__  \n",
    "> __$H_{a}$: There is a statistically significant relationship between gender and diabetes diagnosis.__"
   ]
  },
  {
   "cell_type": "code",
   "execution_count": 4,
   "metadata": {},
   "outputs": [
    {
     "name": "stdout",
     "output_type": "stream",
     "text": [
      "<class 'pandas.core.frame.DataFrame'>\n",
      "Int64Index: 32502 entries, 0 to 41442\n",
      "Data columns (total 2 columns):\n",
      "RIAGENDR    32502 non-null int32\n",
      "DIAB        32502 non-null float64\n",
      "dtypes: float64(1), int32(1)\n",
      "memory usage: 634.8 KB\n"
     ]
    }
   ],
   "source": [
    "labs_demo = labs.merge(demo, on='SEQN')\n",
    "gender_diab_test = labs_demo[['RIAGENDR', 'DIAB']].dropna(how='any')\n",
    "gender_diab_test.info()"
   ]
  },
  {
   "cell_type": "markdown",
   "metadata": {},
   "source": [
    "Gender: 1=Male, 2=Female; Diabetes Indicator: 0=No Diabetes, 1=Prediabetes, 2=Diabetes"
   ]
  },
  {
   "cell_type": "code",
   "execution_count": 5,
   "metadata": {},
   "outputs": [
    {
     "data": {
      "text/html": [
       "<div>\n",
       "<style scoped>\n",
       "    .dataframe tbody tr th:only-of-type {\n",
       "        vertical-align: middle;\n",
       "    }\n",
       "\n",
       "    .dataframe tbody tr th {\n",
       "        vertical-align: top;\n",
       "    }\n",
       "\n",
       "    .dataframe thead th {\n",
       "        text-align: right;\n",
       "    }\n",
       "</style>\n",
       "<table border=\"1\" class=\"dataframe\">\n",
       "  <thead>\n",
       "    <tr style=\"text-align: right;\">\n",
       "      <th>Diabetes Indicator</th>\n",
       "      <th>0.0</th>\n",
       "      <th>1.0</th>\n",
       "      <th>2.0</th>\n",
       "      <th>All</th>\n",
       "    </tr>\n",
       "    <tr>\n",
       "      <th>Gender</th>\n",
       "      <th></th>\n",
       "      <th></th>\n",
       "      <th></th>\n",
       "      <th></th>\n",
       "    </tr>\n",
       "  </thead>\n",
       "  <tbody>\n",
       "    <tr>\n",
       "      <th>1</th>\n",
       "      <td>8065</td>\n",
       "      <td>5704</td>\n",
       "      <td>2181</td>\n",
       "      <td>15950</td>\n",
       "    </tr>\n",
       "    <tr>\n",
       "      <th>2</th>\n",
       "      <td>9411</td>\n",
       "      <td>5235</td>\n",
       "      <td>1906</td>\n",
       "      <td>16552</td>\n",
       "    </tr>\n",
       "    <tr>\n",
       "      <th>All</th>\n",
       "      <td>17476</td>\n",
       "      <td>10939</td>\n",
       "      <td>4087</td>\n",
       "      <td>32502</td>\n",
       "    </tr>\n",
       "  </tbody>\n",
       "</table>\n",
       "</div>"
      ],
      "text/plain": [
       "Diabetes Indicator    0.0    1.0   2.0    All\n",
       "Gender                                       \n",
       "1                    8065   5704  2181  15950\n",
       "2                    9411   5235  1906  16552\n",
       "All                 17476  10939  4087  32502"
      ]
     },
     "execution_count": 5,
     "metadata": {},
     "output_type": "execute_result"
    }
   ],
   "source": [
    "contingency_table = pd.crosstab(\n",
    "    gender_diab_test['RIAGENDR'],\n",
    "    gender_diab_test['DIAB'],\n",
    "    margins=True, \n",
    "    rownames=['Gender'],\n",
    "    colnames=['Diabetes Indicator']\n",
    ")\n",
    "contingency_table"
   ]
  },
  {
   "cell_type": "markdown",
   "metadata": {},
   "source": [
    "We will use the chi-square test for independence for this data. The data is a good fit in several aspects, except that it is not from a simple, random sample. It is from a complex survey sample. It will still be interesting to see what the data looks like and what results we get despite the sample complexity. \n",
    "\n",
    "This data meets several criteria for a good fit for a chi-square test as we have two categorical variables from one sample (NHANES), the  categories are mutually exclusive so there is no overlap, and all frequencies are greater than 5 in our contingency table. Let's visualize the data before running the chi-square test."
   ]
  },
  {
   "cell_type": "code",
   "execution_count": 6,
   "metadata": {},
   "outputs": [
    {
     "data": {
      "image/png": "[encoded data removed]",
      "text/plain": [
       "<Figure size 720x360 with 1 Axes>"
      ]
     },
     "metadata": {
      "needs_background": "light"
     },
     "output_type": "display_data"
    }
   ],
   "source": [
    "fig, ax = plt.subplots(figsize=(10, 5))\n",
    "sns.set(font_scale=1.5)\n",
    "\n",
    "malecount = contingency_table.iloc[0][0:3].values\n",
    "femalecount = contingency_table.iloc[1][0:3].values\n",
    "\n",
    "categories = [\"No Diabetes\",\"Prediabetes\",\"Diabetes\"]\n",
    "x = np.arange(len(categories))\n",
    "\n",
    "bar_width = 0.4\n",
    "b1 = ax.bar(x, malecount, \n",
    "            width=bar_width, label='Male')\n",
    "b2 = ax.bar(x + bar_width, femalecount, \n",
    "            width=bar_width, label='Female', color='mediumseagreen')\n",
    "\n",
    "# Fix the x-axes.\n",
    "ax.set_xticks(x + bar_width / 2)\n",
    "ax.set_xticklabels(categories)\n",
    "\n",
    "# Label the plot.\n",
    "plt.legend()\n",
    "ax.set_title('Frequency of Diabetes by Gender')\n",
    "ax.set_xlabel('Diabetes Indicator')\n",
    "ax.set_ylabel('Frequency')\n",
    "plt.show()"
   ]
  },
  {
   "cell_type": "markdown",
   "metadata": {},
   "source": [
    "__Now run the chi-square test.__"
   ]
  },
  {
   "cell_type": "code",
   "execution_count": 7,
   "metadata": {},
   "outputs": [
    {
     "data": {
      "text/plain": [
       "array([[8065, 5704, 2181],\n",
       "       [9411, 5235, 1906]], dtype=int64)"
      ]
     },
     "execution_count": 7,
     "metadata": {},
     "output_type": "execute_result"
    }
   ],
   "source": [
    "f_obs = np.array([contingency_table.iloc[0][0:3].values,\n",
    "                  contingency_table.iloc[1][0:3].values])\n",
    "f_obs"
   ]
  },
  {
   "cell_type": "code",
   "execution_count": 51,
   "metadata": {},
   "outputs": [
    {
     "name": "stdout",
     "output_type": "stream",
     "text": [
      "chi-square statistic =  131.17535293718925 \n",
      "p-value =  3.2781893031183385e-29 \n",
      "degrees of freedom =  2 \n",
      "expected values =  [[8576.15531352 5368.19426497 2005.65042151]\n",
      " [8899.84468648 5570.80573503 2081.34957849]]\n"
     ]
    }
   ],
   "source": [
    "chi2, p, dof, expected = stats.chi2_contingency(f_obs)\n",
    "print('chi-square statistic = ',chi2, '\\np-value = ', p, '\\ndegrees of freedom = ', dof, '\\nexpected values = ', expected)"
   ]
  },
  {
   "cell_type": "markdown",
   "metadata": {},
   "source": [
    "__Our $\\chi^{2}$ value is very large, and our p-value is near zero ($10^{-29}$). We have evidence against the null hypothesis, and therefore choose the alternate hypothesis that gender and diabetes indicator are related somehow.__"
   ]
  },
  {
   "cell_type": "markdown",
   "metadata": {},
   "source": [
    "### Test 2:\n",
    "> __$H_{0}$: There is no statistically significant relationship between diagnosed hypertension and diabetes diagnosis.__  \n",
    "> __$H_{a}$: There is a statistically significant relationship between diagnosed hypertension and diabetes diagnosis.__  "
   ]
  },
  {
   "cell_type": "code",
   "execution_count": 9,
   "metadata": {},
   "outputs": [
    {
     "name": "stdout",
     "output_type": "stream",
     "text": [
      "<class 'pandas.core.frame.DataFrame'>\n",
      "Int64Index: 29593 entries, 0 to 41442\n",
      "Data columns (total 2 columns):\n",
      "BPQ020    29593 non-null float64\n",
      "DIAB      29593 non-null float64\n",
      "dtypes: float64(2)\n",
      "memory usage: 693.6 KB\n"
     ]
    }
   ],
   "source": [
    "labs_ques = labs.merge(ques, on='SEQN')\n",
    "bp_diab_test = labs_ques[['BPQ020', 'DIAB']].dropna(how='any')\n",
    "bp_diab_test.info()"
   ]
  },
  {
   "cell_type": "markdown",
   "metadata": {},
   "source": [
    "Hypertension Diagnosis: 1=Yes, 2=No, 7=Refused, 9=Don't know; Diabetes Indicator: 0=No Diabetes, 1=Prediabetes, 2=Diabetes"
   ]
  },
  {
   "cell_type": "code",
   "execution_count": 10,
   "metadata": {},
   "outputs": [
    {
     "data": {
      "text/html": [
       "<div>\n",
       "<style scoped>\n",
       "    .dataframe tbody tr th:only-of-type {\n",
       "        vertical-align: middle;\n",
       "    }\n",
       "\n",
       "    .dataframe tbody tr th {\n",
       "        vertical-align: top;\n",
       "    }\n",
       "\n",
       "    .dataframe thead th {\n",
       "        text-align: right;\n",
       "    }\n",
       "</style>\n",
       "<table border=\"1\" class=\"dataframe\">\n",
       "  <thead>\n",
       "    <tr style=\"text-align: right;\">\n",
       "      <th>Diabetes Indicator</th>\n",
       "      <th>0.0</th>\n",
       "      <th>1.0</th>\n",
       "      <th>2.0</th>\n",
       "      <th>All</th>\n",
       "    </tr>\n",
       "    <tr>\n",
       "      <th>Hypertension Diagnosis</th>\n",
       "      <th></th>\n",
       "      <th></th>\n",
       "      <th></th>\n",
       "      <th></th>\n",
       "    </tr>\n",
       "  </thead>\n",
       "  <tbody>\n",
       "    <tr>\n",
       "      <th>1.0</th>\n",
       "      <td>2942</td>\n",
       "      <td>4236</td>\n",
       "      <td>2585</td>\n",
       "      <td>9763</td>\n",
       "    </tr>\n",
       "    <tr>\n",
       "      <th>2.0</th>\n",
       "      <td>12191</td>\n",
       "      <td>6126</td>\n",
       "      <td>1480</td>\n",
       "      <td>19797</td>\n",
       "    </tr>\n",
       "    <tr>\n",
       "      <th>9.0</th>\n",
       "      <td>16</td>\n",
       "      <td>12</td>\n",
       "      <td>5</td>\n",
       "      <td>33</td>\n",
       "    </tr>\n",
       "    <tr>\n",
       "      <th>All</th>\n",
       "      <td>15149</td>\n",
       "      <td>10374</td>\n",
       "      <td>4070</td>\n",
       "      <td>29593</td>\n",
       "    </tr>\n",
       "  </tbody>\n",
       "</table>\n",
       "</div>"
      ],
      "text/plain": [
       "Diabetes Indicator        0.0    1.0   2.0    All\n",
       "Hypertension Diagnosis                           \n",
       "1.0                      2942   4236  2585   9763\n",
       "2.0                     12191   6126  1480  19797\n",
       "9.0                        16     12     5     33\n",
       "All                     15149  10374  4070  29593"
      ]
     },
     "execution_count": 10,
     "metadata": {},
     "output_type": "execute_result"
    }
   ],
   "source": [
    "contingency_table_2 = pd.crosstab(\n",
    "    bp_diab_test['BPQ020'],\n",
    "    bp_diab_test['DIAB'],\n",
    "    margins=True, \n",
    "    rownames=['Hypertension Diagnosis'],\n",
    "    colnames=['Diabetes Indicator']\n",
    ")\n",
    "contingency_table_2"
   ]
  },
  {
   "cell_type": "markdown",
   "metadata": {},
   "source": [
    "We only really care about the Yes and No responses for Hypertension Diagnosis. We will ignore the Don't know data. With that, this data is also a good fit for a chi-square test. Let's visualize the data before running the chi-square test."
   ]
  },
  {
   "cell_type": "code",
   "execution_count": 11,
   "metadata": {},
   "outputs": [
    {
     "data": {
      "image/png": "[encoded data removed]",
      "text/plain": [
       "<Figure size 720x360 with 1 Axes>"
      ]
     },
     "metadata": {},
     "output_type": "display_data"
    }
   ],
   "source": [
    "fig, ax = plt.subplots(figsize=(10, 5))\n",
    "sns.set(font_scale=1.4)\n",
    "\n",
    "yescount = contingency_table_2.iloc[0][0:3].values\n",
    "nocount = contingency_table_2.iloc[1][0:3].values\n",
    "\n",
    "categories = [\"No Diabetes\",\"Prediabetes\",\"Diabetes\"]\n",
    "x = np.arange(len(categories))\n",
    "\n",
    "bar_width = 0.4\n",
    "b1 = ax.bar(x, yescount, \n",
    "            width=bar_width, label='Yes')\n",
    "b2 = ax.bar(x + bar_width, nocount, \n",
    "            width=bar_width, label='No', color='mediumseagreen')\n",
    "\n",
    "# Fix the x-axes.\n",
    "ax.set_xticks(x + bar_width / 2)\n",
    "ax.set_xticklabels(categories)\n",
    "\n",
    "# Label the plot.\n",
    "plt.legend()\n",
    "ax.set_title('Frequency of Diabetes by Hypertension Diagnosis')\n",
    "ax.set_xlabel('Diabetes Indicator')\n",
    "ax.set_ylabel('Frequency')\n",
    "\n",
    "plt.show()"
   ]
  },
  {
   "cell_type": "markdown",
   "metadata": {},
   "source": [
    "__Now run the chi-square test.__"
   ]
  },
  {
   "cell_type": "code",
   "execution_count": 12,
   "metadata": {},
   "outputs": [
    {
     "data": {
      "text/plain": [
       "array([[ 2942,  4236,  2585],\n",
       "       [12191,  6126,  1480]], dtype=int64)"
      ]
     },
     "execution_count": 12,
     "metadata": {},
     "output_type": "execute_result"
    }
   ],
   "source": [
    "f_obs_2 = np.array([contingency_table_2.iloc[0][0:3].values,\n",
    "                  contingency_table_2.iloc[1][0:3].values])\n",
    "f_obs_2"
   ]
  },
  {
   "cell_type": "code",
   "execution_count": 52,
   "metadata": {},
   "outputs": [
    {
     "name": "stdout",
     "output_type": "stream",
     "text": [
      "chi-square statistic =  3268.53516616707 \n",
      "p-value =  0.0 \n",
      "degrees of freedom =  2 \n",
      "expected values =  [[ 4998.08792287  3422.33443843  1342.5776387 ]\n",
      " [10134.91207713  6939.66556157  2722.4223613 ]]\n"
     ]
    }
   ],
   "source": [
    "chi2, p, dof, expected = stats.chi2_contingency(f_obs_2)\n",
    "print('chi-square statistic = ',chi2, '\\np-value = ', p, '\\ndegrees of freedom = ', dof, '\\nexpected values = ', expected)"
   ]
  },
  {
   "cell_type": "markdown",
   "metadata": {},
   "source": [
    "__Our $\\chi^{2}$ value is even larger than before, and our p-value is zero. We have evidence against the null hypothesis, and therefore choose the alternate hypothesis that a hypertension diagnosis and diabetes indicator are related.__"
   ]
  },
  {
   "cell_type": "markdown",
   "metadata": {},
   "source": [
    "### Test 3:\n",
    "> __$H_{0}$: There is no statistically significant relationship between moderate activity and diabetes diagnosis.__  \n",
    "> __$H_{a}$: There is a statistically significant relationship between moderate activity and diabetes diagnosis.__  "
   ]
  },
  {
   "cell_type": "code",
   "execution_count": 14,
   "metadata": {},
   "outputs": [
    {
     "name": "stdout",
     "output_type": "stream",
     "text": [
      "<class 'pandas.core.frame.DataFrame'>\n",
      "Int64Index: 32374 entries, 0 to 41442\n",
      "Data columns (total 2 columns):\n",
      "PAQ665    32374 non-null float64\n",
      "DIAB      32374 non-null float64\n",
      "dtypes: float64(2)\n",
      "memory usage: 758.8 KB\n"
     ]
    }
   ],
   "source": [
    "activity_diab_test = labs_ques[['PAQ665', 'DIAB']].dropna(how='any')\n",
    "activity_diab_test.info()"
   ]
  },
  {
   "cell_type": "markdown",
   "metadata": {},
   "source": [
    "Moderate Activity: 1=Yes, 2=No, 7=Refused, 9=Don't know; Diabetes Indicator: 0=No Diabetes, 1=Prediabetes, 2=Diabetes"
   ]
  },
  {
   "cell_type": "code",
   "execution_count": 15,
   "metadata": {},
   "outputs": [
    {
     "data": {
      "text/html": [
       "<div>\n",
       "<style scoped>\n",
       "    .dataframe tbody tr th:only-of-type {\n",
       "        vertical-align: middle;\n",
       "    }\n",
       "\n",
       "    .dataframe tbody tr th {\n",
       "        vertical-align: top;\n",
       "    }\n",
       "\n",
       "    .dataframe thead th {\n",
       "        text-align: right;\n",
       "    }\n",
       "</style>\n",
       "<table border=\"1\" class=\"dataframe\">\n",
       "  <thead>\n",
       "    <tr style=\"text-align: right;\">\n",
       "      <th>Diabetes Indicator</th>\n",
       "      <th>0.0</th>\n",
       "      <th>1.0</th>\n",
       "      <th>2.0</th>\n",
       "      <th>All</th>\n",
       "    </tr>\n",
       "    <tr>\n",
       "      <th>Moderate Activity</th>\n",
       "      <th></th>\n",
       "      <th></th>\n",
       "      <th></th>\n",
       "      <th></th>\n",
       "    </tr>\n",
       "  </thead>\n",
       "  <tbody>\n",
       "    <tr>\n",
       "      <th>1.0</th>\n",
       "      <td>7937</td>\n",
       "      <td>4231</td>\n",
       "      <td>1227</td>\n",
       "      <td>13395</td>\n",
       "    </tr>\n",
       "    <tr>\n",
       "      <th>2.0</th>\n",
       "      <td>9431</td>\n",
       "      <td>6683</td>\n",
       "      <td>2857</td>\n",
       "      <td>18971</td>\n",
       "    </tr>\n",
       "    <tr>\n",
       "      <th>9.0</th>\n",
       "      <td>5</td>\n",
       "      <td>0</td>\n",
       "      <td>3</td>\n",
       "      <td>8</td>\n",
       "    </tr>\n",
       "    <tr>\n",
       "      <th>All</th>\n",
       "      <td>17373</td>\n",
       "      <td>10914</td>\n",
       "      <td>4087</td>\n",
       "      <td>32374</td>\n",
       "    </tr>\n",
       "  </tbody>\n",
       "</table>\n",
       "</div>"
      ],
      "text/plain": [
       "Diabetes Indicator    0.0    1.0   2.0    All\n",
       "Moderate Activity                            \n",
       "1.0                  7937   4231  1227  13395\n",
       "2.0                  9431   6683  2857  18971\n",
       "9.0                     5      0     3      8\n",
       "All                 17373  10914  4087  32374"
      ]
     },
     "execution_count": 15,
     "metadata": {},
     "output_type": "execute_result"
    }
   ],
   "source": [
    "contingency_table_3 = pd.crosstab(\n",
    "    activity_diab_test['PAQ665'],\n",
    "    activity_diab_test['DIAB'],\n",
    "    margins=True, \n",
    "    rownames=['Moderate Activity'],\n",
    "    colnames=['Diabetes Indicator']\n",
    ")\n",
    "contingency_table_3"
   ]
  },
  {
   "cell_type": "markdown",
   "metadata": {},
   "source": [
    "We only really care about the Yes and No responses for Moderate Activity. We will ignore the Don't know data. With that, this data is also a good fit for a chi-square test. Let's visualize the data before running the chi-square test."
   ]
  },
  {
   "cell_type": "code",
   "execution_count": 16,
   "metadata": {},
   "outputs": [
    {
     "data": {
      "image/png": "[encoded data removed]",
      "text/plain": [
       "<Figure size 720x360 with 1 Axes>"
      ]
     },
     "metadata": {},
     "output_type": "display_data"
    }
   ],
   "source": [
    "fig, ax = plt.subplots(figsize=(10, 5))\n",
    "sns.set(font_scale=1.4)\n",
    "\n",
    "yescount = contingency_table_3.iloc[0][0:3].values\n",
    "nocount = contingency_table_3.iloc[1][0:3].values\n",
    "\n",
    "categories = [\"No Diabetes\",\"Prediabetes\",\"Diabetes\"]\n",
    "x = np.arange(len(categories))\n",
    "\n",
    "bar_width = 0.4\n",
    "b1 = ax.bar(x, yescount, \n",
    "            width=bar_width, label='Yes')\n",
    "b2 = ax.bar(x + bar_width, nocount, \n",
    "            width=bar_width, label='No', color='mediumseagreen')\n",
    "\n",
    "# Fix the x-axes.\n",
    "ax.set_xticks(x + bar_width / 2)\n",
    "ax.set_xticklabels(categories)\n",
    "\n",
    "# Label the plot.\n",
    "plt.legend()\n",
    "ax.set_title('Frequency of Diabetes by Moderate Activity')\n",
    "ax.set_xlabel('Diabetes Indicator')\n",
    "ax.set_ylabel('Frequency')\n",
    "\n",
    "plt.show()"
   ]
  },
  {
   "cell_type": "markdown",
   "metadata": {},
   "source": [
    "__Now run the chi-square test.__"
   ]
  },
  {
   "cell_type": "code",
   "execution_count": 17,
   "metadata": {},
   "outputs": [
    {
     "data": {
      "text/plain": [
       "array([[7937, 4231, 1227],\n",
       "       [9431, 6683, 2857]], dtype=int64)"
      ]
     },
     "execution_count": 17,
     "metadata": {},
     "output_type": "execute_result"
    }
   ],
   "source": [
    "f_obs_3 = np.array([contingency_table_3.iloc[0][0:3].values,\n",
    "                  contingency_table_3.iloc[1][0:3].values])\n",
    "f_obs_3"
   ]
  },
  {
   "cell_type": "code",
   "execution_count": 53,
   "metadata": {},
   "outputs": [
    {
     "name": "stdout",
     "output_type": "stream",
     "text": [
      "chi-square statistic =  380.623640395496 \n",
      "p-value =  2.2316528979568528e-83 \n",
      "degrees of freedom =  2 \n",
      "expected values =  [[ 7187.92436507  4516.87048137  1690.20515356]\n",
      " [10180.07563493  6397.12951863  2393.79484644]]\n"
     ]
    }
   ],
   "source": [
    "chi2, p, dof, expected = stats.chi2_contingency(f_obs_3)\n",
    "print('chi-square statistic = ',chi2, '\\np-value = ', p, '\\ndegrees of freedom = ', dof, '\\nexpected values = ', expected)"
   ]
  },
  {
   "cell_type": "markdown",
   "metadata": {},
   "source": [
    "__Our $\\chi^{2}$ value is once again very large, and our p-value is tiny. We have evidence against the null hypothesis, and therefore choose the alternate hypothesis that moderate activity and diabetes indicator are related.__"
   ]
  },
  {
   "cell_type": "markdown",
   "metadata": {},
   "source": [
    "### Test 4:\n",
    "> __$H_{0}$: There is no statistically significant relationship between marital status and diabetes diagnosis.__  \n",
    "> __$H_{a}$: There is a statistically significant relationship between marital status and diabetes diagnosis.__  "
   ]
  },
  {
   "cell_type": "code",
   "execution_count": 19,
   "metadata": {},
   "outputs": [
    {
     "name": "stdout",
     "output_type": "stream",
     "text": [
      "<class 'pandas.core.frame.DataFrame'>\n",
      "Int64Index: 26746 entries, 0 to 41442\n",
      "Data columns (total 2 columns):\n",
      "DMDMARTL    26746 non-null float64\n",
      "DIAB        26746 non-null float64\n",
      "dtypes: float64(2)\n",
      "memory usage: 626.9 KB\n"
     ]
    }
   ],
   "source": [
    "mar_diab_test = labs_demo[['DMDMARTL', 'DIAB']].dropna(how='any')\n",
    "mar_diab_test.info()"
   ]
  },
  {
   "cell_type": "markdown",
   "metadata": {},
   "source": [
    "Marital Status: 1=Married, 2=Widowed, 3=Divorced, 4=Separated, 5=Never Married, 6=Living with Partner, 77=Refused, 99=Don't know; Combine Married + Living with Partner into one group, all others except Refused and Don't know in second group. Ignore Refused and Don't know answers.  \n",
    "Diabetes Indicator: 0=No Diabetes, 1=Prediabetes, 2=Diabetes"
   ]
  },
  {
   "cell_type": "code",
   "execution_count": 20,
   "metadata": {},
   "outputs": [],
   "source": [
    "def set_cohabit(row):\n",
    "    \"\"\"\n",
    "    Return integer indicator for cohabitation based on DMDMARTL column:\n",
    "    1 = Yes (Married or Living with Partner)\n",
    "    2 = No (Widowed, Divorded, Separated, Never Married)\n",
    "    NaN = Any other value (Refused, Don't know)\n",
    "    \"\"\"\n",
    "    \n",
    "    if row['DMDMARTL'] in [1, 6]:\n",
    "        return 1\n",
    "    elif row['DMDMARTL'] in [2, 3, 4, 5]:\n",
    "        return 2\n",
    "    else:\n",
    "        return np.NaN\n",
    "    \n",
    "mar_diab_test = mar_diab_test.assign(COHABIT=mar_diab_test.apply(set_cohabit, axis=1))       "
   ]
  },
  {
   "cell_type": "code",
   "execution_count": 21,
   "metadata": {},
   "outputs": [
    {
     "data": {
      "text/html": [
       "<div>\n",
       "<style scoped>\n",
       "    .dataframe tbody tr th:only-of-type {\n",
       "        vertical-align: middle;\n",
       "    }\n",
       "\n",
       "    .dataframe tbody tr th {\n",
       "        vertical-align: top;\n",
       "    }\n",
       "\n",
       "    .dataframe thead th {\n",
       "        text-align: right;\n",
       "    }\n",
       "</style>\n",
       "<table border=\"1\" class=\"dataframe\">\n",
       "  <thead>\n",
       "    <tr style=\"text-align: right;\">\n",
       "      <th>Diabetes Indicator</th>\n",
       "      <th>0.0</th>\n",
       "      <th>1.0</th>\n",
       "      <th>2.0</th>\n",
       "      <th>All</th>\n",
       "    </tr>\n",
       "    <tr>\n",
       "      <th>Marital Status</th>\n",
       "      <th></th>\n",
       "      <th></th>\n",
       "      <th></th>\n",
       "      <th></th>\n",
       "    </tr>\n",
       "  </thead>\n",
       "  <tbody>\n",
       "    <tr>\n",
       "      <th>1.0</th>\n",
       "      <td>7453</td>\n",
       "      <td>6031</td>\n",
       "      <td>2415</td>\n",
       "      <td>15899</td>\n",
       "    </tr>\n",
       "    <tr>\n",
       "      <th>2.0</th>\n",
       "      <td>5348</td>\n",
       "      <td>3865</td>\n",
       "      <td>1622</td>\n",
       "      <td>10835</td>\n",
       "    </tr>\n",
       "    <tr>\n",
       "      <th>All</th>\n",
       "      <td>12801</td>\n",
       "      <td>9896</td>\n",
       "      <td>4037</td>\n",
       "      <td>26734</td>\n",
       "    </tr>\n",
       "  </tbody>\n",
       "</table>\n",
       "</div>"
      ],
      "text/plain": [
       "Diabetes Indicator    0.0   1.0   2.0    All\n",
       "Marital Status                              \n",
       "1.0                  7453  6031  2415  15899\n",
       "2.0                  5348  3865  1622  10835\n",
       "All                 12801  9896  4037  26734"
      ]
     },
     "execution_count": 21,
     "metadata": {},
     "output_type": "execute_result"
    }
   ],
   "source": [
    "contingency_table_4 = pd.crosstab(\n",
    "    mar_diab_test['COHABIT'],\n",
    "    mar_diab_test['DIAB'],\n",
    "    margins=True, \n",
    "    rownames=['Marital Status'],\n",
    "    colnames=['Diabetes Indicator']\n",
    ")\n",
    "contingency_table_4"
   ]
  },
  {
   "cell_type": "markdown",
   "metadata": {},
   "source": [
    "This data is also a good fit for a chi-square test. Let's visualize the data before running the chi-square test."
   ]
  },
  {
   "cell_type": "code",
   "execution_count": 22,
   "metadata": {},
   "outputs": [
    {
     "data": {
      "image/png": "[encoded data removed]",
      "text/plain": [
       "<Figure size 720x360 with 1 Axes>"
      ]
     },
     "metadata": {},
     "output_type": "display_data"
    }
   ],
   "source": [
    "fig, ax = plt.subplots(figsize=(10, 5))\n",
    "sns.set(font_scale=1.4)\n",
    "\n",
    "yescount = contingency_table_4.iloc[0][0:3].values\n",
    "nocount = contingency_table_4.iloc[1][0:3].values\n",
    "\n",
    "categories = [\"No Diabetes\",\"Prediabetes\",\"Diabetes\"]\n",
    "x = np.arange(len(categories))\n",
    "\n",
    "bar_width = 0.4\n",
    "b1 = ax.bar(x, yescount, \n",
    "            width=bar_width, label='Married/Cohabiting')\n",
    "b2 = ax.bar(x + bar_width, nocount, \n",
    "            width=bar_width, label='Widowed/Divorced/Separated/Never Married', color='mediumseagreen')\n",
    "\n",
    "# Fix the x-axes.\n",
    "ax.set_xticks(x + bar_width / 2)\n",
    "ax.set_xticklabels(categories)\n",
    "\n",
    "# Label the plot.\n",
    "plt.legend()\n",
    "ax.set_title('Frequency of Diabetes by Marital Status')\n",
    "ax.set_xlabel('Diabetes Indicator')\n",
    "ax.set_ylabel('Frequency')\n",
    "\n",
    "plt.show()"
   ]
  },
  {
   "cell_type": "markdown",
   "metadata": {},
   "source": [
    "__Now run the chi-square test.__"
   ]
  },
  {
   "cell_type": "code",
   "execution_count": 23,
   "metadata": {},
   "outputs": [
    {
     "data": {
      "text/plain": [
       "array([[7453, 6031, 2415],\n",
       "       [5348, 3865, 1622]], dtype=int64)"
      ]
     },
     "execution_count": 23,
     "metadata": {},
     "output_type": "execute_result"
    }
   ],
   "source": [
    "f_obs_4 = np.array([contingency_table_4.iloc[0][0:3].values,\n",
    "                  contingency_table_4.iloc[1][0:3].values])\n",
    "f_obs_4"
   ]
  },
  {
   "cell_type": "code",
   "execution_count": 54,
   "metadata": {},
   "outputs": [
    {
     "name": "stdout",
     "output_type": "stream",
     "text": [
      "chi-square statistic =  17.396916855369003 \n",
      "p-value =  0.00016684281310478535 \n",
      "degrees of freedom =  2 \n",
      "expected values =  [[7612.89365602 5885.25862198 2400.847722  ]\n",
      " [5188.10634398 4010.74137802 1636.152278  ]]\n"
     ]
    }
   ],
   "source": [
    "chi2, p, dof, expected = stats.chi2_contingency(f_obs_4)\n",
    "print('chi-square statistic = ',chi2, '\\np-value = ', p, '\\ndegrees of freedom = ', dof, '\\nexpected values = ', expected)"
   ]
  },
  {
   "cell_type": "markdown",
   "metadata": {},
   "source": [
    "__Our $\\chi^{2}$ value is a bit large, and our p-value is small. There is only a .017% chance of getting a test statistic at least this extreme by random chance under the null hypothesis. We thus have evidence against the null hypothesis, and  choose the alternate hypothesis that marital status and diabetes indicator are related.__"
   ]
  },
  {
   "cell_type": "markdown",
   "metadata": {},
   "source": [
    "## Look at Triglycerides, Systolic blood pressure, BMI, Serum Iron, and AST continuous markers. "
   ]
  },
  {
   "cell_type": "markdown",
   "metadata": {},
   "source": [
    "For these continuous markers, we will use the t-test to evaluate our hypotheses. Our underlying data distributions are not normal, but we have large samples so due to the Central Limit Theorem this test is appropriate. "
   ]
  },
  {
   "cell_type": "markdown",
   "metadata": {},
   "source": [
    "### Test 5:\n",
    "> __$H_{0}$: The means of Triglycerides of participants with No Diabetes and Prediabetes indicators are the same.__  \n",
    "> __$H_{a}$: The means of Triglycerides of participants with No Diabetes and Prediabetes indicators are different.__  "
   ]
  },
  {
   "cell_type": "markdown",
   "metadata": {},
   "source": [
    "What are our sample sizes?"
   ]
  },
  {
   "cell_type": "code",
   "execution_count": 25,
   "metadata": {},
   "outputs": [
    {
     "data": {
      "text/plain": [
       "(6284, 6657)"
      ]
     },
     "execution_count": 25,
     "metadata": {},
     "output_type": "execute_result"
    }
   ],
   "source": [
    "trig_test = labs[['LBXTR', 'DIAB']].dropna(how='any')\n",
    "len(trig_test[trig_test['DIAB']==0]['LBXTR']), len(trig_test[trig_test['DIAB']==1]['LBXTR'])"
   ]
  },
  {
   "cell_type": "markdown",
   "metadata": {},
   "source": [
    "Now let's look at the two distributions. "
   ]
  },
  {
   "cell_type": "code",
   "execution_count": 56,
   "metadata": {},
   "outputs": [
    {
     "data": {
      "image/png": "[encoded data removed]",
      "text/plain": [
       "<Figure size 432x288 with 1 Axes>"
      ]
     },
     "metadata": {},
     "output_type": "display_data"
    }
   ],
   "source": [
    "# DIAB = 0 is No Diabetes.\n",
    "ax = sns.boxplot(trig_test[trig_test['DIAB']==0]['LBXTR'])\n",
    "ax.set_title('Triglycerides for No Diabetes Group')\n",
    "ax.set_xlabel('Triglycerides (mg/dL)')\n",
    "plt.show()"
   ]
  },
  {
   "cell_type": "code",
   "execution_count": 27,
   "metadata": {},
   "outputs": [
    {
     "data": {
      "image/png": "[encoded data removed]",
      "text/plain": [
       "<Figure size 432x288 with 1 Axes>"
      ]
     },
     "metadata": {},
     "output_type": "display_data"
    }
   ],
   "source": [
    "# DIAB = 1 is Prediabetes.\n",
    "ax = sns.boxplot(trig_test[trig_test['DIAB']==1]['LBXTR'])\n",
    "ax.set_title('Triglycerides for Prediabetes Group')\n",
    "ax.set_xlabel('Triglycerides (mg/dL)')\n",
    "plt.show()"
   ]
  },
  {
   "cell_type": "markdown",
   "metadata": {},
   "source": [
    "Let's see if the variances are the same. "
   ]
  },
  {
   "cell_type": "code",
   "execution_count": 28,
   "metadata": {},
   "outputs": [
    {
     "data": {
      "text/plain": [
       "(4268.134205310702, 10133.694096493999)"
      ]
     },
     "execution_count": 28,
     "metadata": {},
     "output_type": "execute_result"
    }
   ],
   "source": [
    "nodiab = trig_test[trig_test['DIAB']==0]['LBXTR']\n",
    "prediab = trig_test[trig_test['DIAB']==1]['LBXTR']\n",
    "np.var(nodiab, ddof=1), np.var(prediab, ddof=1)"
   ]
  },
  {
   "cell_type": "markdown",
   "metadata": {},
   "source": [
    "Variances are definitely different. Now let's calculate t-statistic and probability. "
   ]
  },
  {
   "cell_type": "code",
   "execution_count": 29,
   "metadata": {},
   "outputs": [
    {
     "data": {
      "text/plain": [
       "(-20.9254004609381, 1.8693419763813204e-95)"
      ]
     },
     "execution_count": 29,
     "metadata": {},
     "output_type": "execute_result"
    }
   ],
   "source": [
    "# Use scipy ttest_ind to perform two tailed test. \n",
    "t_value, p_value = stats.ttest_ind(nodiab, prediab, equal_var=False)\n",
    "t_value, p_value"
   ]
  },
  {
   "cell_type": "markdown",
   "metadata": {},
   "source": [
    "__The t statistic is far from 0 and the p-value is essentially zero. We can reject our null hypothesis and conclude the means of the No Diabetes group and the Prediabetes group are different.__ "
   ]
  },
  {
   "cell_type": "markdown",
   "metadata": {},
   "source": [
    "### Test 6:\n",
    "> __$H_{0}$: The means of Systolic Blood Pressure of participants with No Diabetes and Prediabetes indicators are the same.__  \n",
    "> __$H_{a}$: The means of Systolic Blood Pressure of participants with No Diabetes and Prediabetes indicators are different.__  "
   ]
  },
  {
   "cell_type": "markdown",
   "metadata": {},
   "source": [
    "What are our sample sizes?"
   ]
  },
  {
   "cell_type": "code",
   "execution_count": 30,
   "metadata": {},
   "outputs": [
    {
     "data": {
      "text/plain": [
       "(17476, 10939)"
      ]
     },
     "execution_count": 30,
     "metadata": {},
     "output_type": "execute_result"
    }
   ],
   "source": [
    "exam_labs = exam.merge(labs, on='SEQN')\n",
    "sys_test = exam_labs[['BPXSY1', 'BPXSY2', 'BPXSY3', 'BPXSY4', 'DIAB']]\n",
    "sys_test = sys_test.assign(BPXSYM = sys_test[['BPXSY1', 'BPXSY2', 'BPXSY3', 'BPXSY4']].mean(axis=1))\n",
    "sys_test.dropna(subset=['BPXSYM'], how='any')\n",
    "len(sys_test[sys_test['DIAB']==0]['BPXSYM']), len(sys_test[sys_test['DIAB']==1]['BPXSYM'])"
   ]
  },
  {
   "cell_type": "markdown",
   "metadata": {},
   "source": [
    "Now let's look at the two distributions. "
   ]
  },
  {
   "cell_type": "code",
   "execution_count": 31,
   "metadata": {},
   "outputs": [
    {
     "data": {
      "image/png": "[encoded data removed]",
      "text/plain": [
       "<Figure size 432x288 with 1 Axes>"
      ]
     },
     "metadata": {},
     "output_type": "display_data"
    }
   ],
   "source": [
    "# DIAB = 0 is No Diabetes.\n",
    "ax = sns.boxplot(sys_test[sys_test['DIAB']==0]['BPXSYM'])\n",
    "ax.set_title('Systolic Blood Pressure for No Diabetes Group')\n",
    "ax.set_xlabel('Systolic Blood Pressure (mm Hg)')\n",
    "plt.show()"
   ]
  },
  {
   "cell_type": "code",
   "execution_count": 32,
   "metadata": {},
   "outputs": [
    {
     "data": {
      "image/png": "[encoded data removed]",
      "text/plain": [
       "<Figure size 432x288 with 1 Axes>"
      ]
     },
     "metadata": {},
     "output_type": "display_data"
    }
   ],
   "source": [
    "# DIAB = 1 is Prediabetes\n",
    "ax = sns.boxplot(sys_test[sys_test['DIAB']==1]['BPXSYM'])\n",
    "ax.set_title('Systolic Blood Pressure for Prediabetes Group')\n",
    "ax.set_xlabel('Systolic Blood Pressure (mm Hg)')\n",
    "plt.show()"
   ]
  },
  {
   "cell_type": "markdown",
   "metadata": {},
   "source": [
    "Let's see if the variances are the same. "
   ]
  },
  {
   "cell_type": "code",
   "execution_count": 33,
   "metadata": {},
   "outputs": [
    {
     "data": {
      "text/plain": [
       "(252.7158500426021, 331.12948514075805)"
      ]
     },
     "execution_count": 33,
     "metadata": {},
     "output_type": "execute_result"
    }
   ],
   "source": [
    "nodiab = sys_test[sys_test['DIAB']==0]['BPXSYM'].dropna()\n",
    "prediab = sys_test[sys_test['DIAB']==1]['BPXSYM'].dropna()\n",
    "np.var(nodiab, ddof=1), np.var(prediab, ddof=1)"
   ]
  },
  {
   "cell_type": "markdown",
   "metadata": {},
   "source": [
    "Variances are not the same. Now calculate the t statistic and p-value. "
   ]
  },
  {
   "cell_type": "code",
   "execution_count": 34,
   "metadata": {},
   "outputs": [
    {
     "data": {
      "text/plain": [
       "(-40.10197933183673, 0.0)"
      ]
     },
     "execution_count": 34,
     "metadata": {},
     "output_type": "execute_result"
    }
   ],
   "source": [
    "# Use scipy ttest_ind to perform two tailed test. \n",
    "t_value, p_value = stats.ttest_ind(nodiab, prediab, equal_var=False)\n",
    "t_value, p_value"
   ]
  },
  {
   "cell_type": "markdown",
   "metadata": {},
   "source": [
    "__Once again, the t statistic is far from 0 and the p-value is 0. We must reject the null hypothesis and conclude the means of the No Diabetes and Prediabetes groups are statistically different.__"
   ]
  },
  {
   "cell_type": "markdown",
   "metadata": {},
   "source": [
    "### Test 7:\n",
    "> __$H_{0}$: The means of Body Mass Index (BMI) of participants with No Diabetes and Prediabetes indicators are the same.__  \n",
    "> __$H_{a}$: The means of BMI of participants with No Diabetes and Prediabetes indicators are different.__  "
   ]
  },
  {
   "cell_type": "markdown",
   "metadata": {},
   "source": [
    "What are our sample sizes?"
   ]
  },
  {
   "cell_type": "code",
   "execution_count": 35,
   "metadata": {},
   "outputs": [
    {
     "data": {
      "text/plain": [
       "(17278, 10832)"
      ]
     },
     "execution_count": 35,
     "metadata": {},
     "output_type": "execute_result"
    }
   ],
   "source": [
    "exam_labs = exam.merge(labs, on='SEQN')\n",
    "bmi_test = exam_labs[['BMXBMI', 'DIAB']].dropna(how='any')\n",
    "len(bmi_test[bmi_test['DIAB']==0]['BMXBMI']), len(bmi_test[bmi_test['DIAB']==1]['BMXBMI'])"
   ]
  },
  {
   "cell_type": "markdown",
   "metadata": {},
   "source": [
    "Now let's look at the two distributions. "
   ]
  },
  {
   "cell_type": "code",
   "execution_count": 36,
   "metadata": {},
   "outputs": [
    {
     "data": {
      "image/png": "[encoded data removed]",
      "text/plain": [
       "<Figure size 432x288 with 1 Axes>"
      ]
     },
     "metadata": {},
     "output_type": "display_data"
    }
   ],
   "source": [
    "# DIAB = 0 is No Diabetes.\n",
    "ax = sns.boxplot(bmi_test[bmi_test['DIAB']==0]['BMXBMI'])\n",
    "ax.set_title('Body Mass Index of No Diabetes Group')\n",
    "ax.set_xlabel('Body Mass Index (kg/m**2)')\n",
    "plt.show()"
   ]
  },
  {
   "cell_type": "code",
   "execution_count": 37,
   "metadata": {},
   "outputs": [
    {
     "data": {
      "image/png": "[encoded data removed]",
      "text/plain": [
       "<Figure size 432x288 with 1 Axes>"
      ]
     },
     "metadata": {},
     "output_type": "display_data"
    }
   ],
   "source": [
    "# DIAB = 1 is Prediabetes\n",
    "ax = sns.boxplot(bmi_test[bmi_test['DIAB']==1]['BMXBMI'])\n",
    "ax.set_title('Body Mass Index of Prediabetes Group')\n",
    "ax.set_xlabel('Body Mass Index (kg/m**2)')\n",
    "plt.show()"
   ]
  },
  {
   "cell_type": "markdown",
   "metadata": {},
   "source": [
    "Let's see if the variances are the same. "
   ]
  },
  {
   "cell_type": "code",
   "execution_count": 38,
   "metadata": {},
   "outputs": [
    {
     "data": {
      "text/plain": [
       "(40.63984573585249, 49.88384222343248)"
      ]
     },
     "execution_count": 38,
     "metadata": {},
     "output_type": "execute_result"
    }
   ],
   "source": [
    "nodiab = bmi_test[bmi_test['DIAB']==0]['BMXBMI'].dropna()\n",
    "prediab = bmi_test[bmi_test['DIAB']==1]['BMXBMI'].dropna()\n",
    "np.var(nodiab, ddof=1), np.var(prediab, ddof=1)"
   ]
  },
  {
   "cell_type": "markdown",
   "metadata": {},
   "source": [
    "The variances are closer than the other features we've looked at, but not the same. "
   ]
  },
  {
   "cell_type": "code",
   "execution_count": 39,
   "metadata": {},
   "outputs": [
    {
     "data": {
      "text/plain": [
       "(-35.58996455051064, 1.5896184338313457e-269)"
      ]
     },
     "execution_count": 39,
     "metadata": {},
     "output_type": "execute_result"
    }
   ],
   "source": [
    "# Use scipy ttest_ind to perform two tailed test. \n",
    "t_value, p_value = stats.ttest_ind(nodiab, prediab, equal_var=False)\n",
    "t_value, p_value"
   ]
  },
  {
   "cell_type": "markdown",
   "metadata": {},
   "source": [
    "__Once again, the t statistic is far from 0 and the p-value is essentially zero. We reject the null hypothesis and conclude the means of the No Diabetes and Prediabetes groups are different.__"
   ]
  },
  {
   "cell_type": "markdown",
   "metadata": {},
   "source": [
    "### Test 8:\n",
    "> __$H_{0}$: The means of Serum Iron of participants with No Diabetes and Prediabetes indicators are the same.__  \n",
    "> __$H_{a}$: The means of Serum Iron of participants with No Diabetes and Prediabetes indicators are different.__  "
   ]
  },
  {
   "cell_type": "markdown",
   "metadata": {},
   "source": [
    "What are our sample sizes?"
   ]
  },
  {
   "cell_type": "code",
   "execution_count": 40,
   "metadata": {},
   "outputs": [
    {
     "data": {
      "text/plain": [
       "(17476, 10939)"
      ]
     },
     "execution_count": 40,
     "metadata": {},
     "output_type": "execute_result"
    }
   ],
   "source": [
    "iron_test = labs[['LBXSIR', 'DIAB']]\n",
    "len(iron_test[iron_test['DIAB']==0]['LBXSIR']), len(iron_test[iron_test['DIAB']==1]['LBXSIR'])"
   ]
  },
  {
   "cell_type": "markdown",
   "metadata": {},
   "source": [
    "Now let's look at the two distributions. "
   ]
  },
  {
   "cell_type": "code",
   "execution_count": 41,
   "metadata": {},
   "outputs": [
    {
     "data": {
      "image/png": "[encoded data removed]",
      "text/plain": [
       "<Figure size 432x288 with 1 Axes>"
      ]
     },
     "metadata": {},
     "output_type": "display_data"
    }
   ],
   "source": [
    "# DIAB = 0 is No Diabetes.\n",
    "\n",
    "ax = sns.boxplot(iron_test[iron_test['DIAB']==0]['LBXSIR'])\n",
    "ax.set_title('Serum Iron of No Diabetes Group')\n",
    "ax.set_xlabel('Serum Iron (ug/dL)')\n",
    "plt.show()"
   ]
  },
  {
   "cell_type": "code",
   "execution_count": 42,
   "metadata": {},
   "outputs": [
    {
     "data": {
      "image/png": "[encoded data removed]",
      "text/plain": [
       "<Figure size 432x288 with 1 Axes>"
      ]
     },
     "metadata": {},
     "output_type": "display_data"
    }
   ],
   "source": [
    "# DIAB = 1 is Prediabetes\n",
    "ax = sns.boxplot(iron_test[iron_test['DIAB']==1]['LBXSIR'])\n",
    "ax.set_title('Serum Iron of Prediabetes Group')\n",
    "ax.set_xlabel('Serum Iron (ug/dL)')\n",
    "plt.show()"
   ]
  },
  {
   "cell_type": "markdown",
   "metadata": {},
   "source": [
    "Let's see if the variances are the same. "
   ]
  },
  {
   "cell_type": "code",
   "execution_count": 43,
   "metadata": {},
   "outputs": [
    {
     "data": {
      "text/plain": [
       "(1399.998749816164, 1156.0330863138986)"
      ]
     },
     "execution_count": 43,
     "metadata": {},
     "output_type": "execute_result"
    }
   ],
   "source": [
    "nodiab = iron_test[iron_test['DIAB']==0]['LBXSIR'].dropna()\n",
    "prediab = iron_test[iron_test['DIAB']==1]['LBXSIR'].dropna()\n",
    "np.var(nodiab, ddof=1), np.var(prediab, ddof=1)"
   ]
  },
  {
   "cell_type": "markdown",
   "metadata": {},
   "source": [
    "Variances are not the same. Let's run the t-test. "
   ]
  },
  {
   "cell_type": "code",
   "execution_count": 44,
   "metadata": {},
   "outputs": [
    {
     "data": {
      "text/plain": [
       "(9.628371452714159, 6.636136369705415e-22)"
      ]
     },
     "execution_count": 44,
     "metadata": {},
     "output_type": "execute_result"
    }
   ],
   "source": [
    "# Use scipy ttest_ind to perform two tailed test. \n",
    "t_value, p_value = stats.ttest_ind(nodiab, prediab, equal_var=False)\n",
    "t_value, p_value"
   ]
  },
  {
   "cell_type": "markdown",
   "metadata": {},
   "source": [
    "__These results are less extreme than the others we've looked at, but the t statistic is still far from zero and the p-value is essentially zero. We must reject the null hypothesis and conclude the means of the two groups are different.__"
   ]
  },
  {
   "cell_type": "markdown",
   "metadata": {},
   "source": [
    "### Test 9:\n",
    "> __$H_{0}$: The means of Asparate aminotransferase (AST) of participants with No Diabetes and Prediabetes indicators are the same.__  \n",
    "> __$H_{a}$: The means of AST of participants with No Diabetes and Prediabetes indicators are different.__  "
   ]
  },
  {
   "cell_type": "markdown",
   "metadata": {},
   "source": [
    "What are our sample sizes?"
   ]
  },
  {
   "cell_type": "code",
   "execution_count": 45,
   "metadata": {},
   "outputs": [
    {
     "data": {
      "text/plain": [
       "(17476, 10939)"
      ]
     },
     "execution_count": 45,
     "metadata": {},
     "output_type": "execute_result"
    }
   ],
   "source": [
    "ast_test = labs[['LBXSASSI', 'DIAB']]\n",
    "len(ast_test[ast_test['DIAB']==0]['LBXSASSI']), len(ast_test[ast_test['DIAB']==1]['LBXSASSI'])"
   ]
  },
  {
   "cell_type": "markdown",
   "metadata": {},
   "source": [
    "Now let's look at the two distributions. "
   ]
  },
  {
   "cell_type": "code",
   "execution_count": 46,
   "metadata": {},
   "outputs": [
    {
     "data": {
      "image/png": "[encoded data removed]",
      "text/plain": [
       "<Figure size 432x288 with 1 Axes>"
      ]
     },
     "metadata": {},
     "output_type": "display_data"
    }
   ],
   "source": [
    "# DIAB = 0 is No Diabetes.\n",
    "\n",
    "ax = sns.boxplot(ast_test[ast_test['DIAB']==0]['LBXSASSI'])\n",
    "ax.set_title('AST for No Diabetes Group')\n",
    "ax.set_xlabel('AST (U/L)')\n",
    "plt.show()"
   ]
  },
  {
   "cell_type": "code",
   "execution_count": 47,
   "metadata": {},
   "outputs": [
    {
     "data": {
      "image/png": "[encoded data removed]",
      "text/plain": [
       "<Figure size 432x288 with 1 Axes>"
      ]
     },
     "metadata": {},
     "output_type": "display_data"
    }
   ],
   "source": [
    "# DIAB = 0 is No Diabetes.\n",
    "ast_test = labs[['LBXSASSI', 'DIAB']]\n",
    "ax = sns.boxplot(ast_test[ast_test['DIAB']==1]['LBXSASSI'])\n",
    "ax.set_title('AST for Prediabetes Group')\n",
    "ax.set_xlabel('AST (U/L)')\n",
    "plt.show()"
   ]
  },
  {
   "cell_type": "markdown",
   "metadata": {},
   "source": [
    "Let's see if the variances are the same. "
   ]
  },
  {
   "cell_type": "code",
   "execution_count": 48,
   "metadata": {},
   "outputs": [
    {
     "data": {
      "text/plain": [
       "(233.59033770556636, 328.6253069851899)"
      ]
     },
     "execution_count": 48,
     "metadata": {},
     "output_type": "execute_result"
    }
   ],
   "source": [
    "nodiab = ast_test[iron_test['DIAB']==0]['LBXSASSI'].dropna()\n",
    "prediab = ast_test[iron_test['DIAB']==1]['LBXSASSI'].dropna()\n",
    "np.var(nodiab, ddof=1), np.var(prediab, ddof=1)"
   ]
  },
  {
   "cell_type": "markdown",
   "metadata": {},
   "source": [
    "Variances are not the same. Calculate the t statistic. "
   ]
  },
  {
   "cell_type": "code",
   "execution_count": 49,
   "metadata": {},
   "outputs": [
    {
     "data": {
      "text/plain": [
       "(-6.664305052978581, 2.728435547339861e-11)"
      ]
     },
     "execution_count": 49,
     "metadata": {},
     "output_type": "execute_result"
    }
   ],
   "source": [
    "# Use scipy ttest_ind to perform two tailed test. \n",
    "t_value, p_value = stats.ttest_ind(nodiab, prediab, equal_var=False)\n",
    "t_value, p_value"
   ]
  },
  {
   "cell_type": "markdown",
   "metadata": {},
   "source": [
    "__Once again, the t statistic is far from zero and p-value is very small. We must reject the null hypothesis and accept the alternate hypothesis that the means of AST are different between the two groups.__"
   ]
  },
  {
   "cell_type": "markdown",
   "metadata": {},
   "source": [
    "### Let's try bootstrapping and see if we get a similar result. "
   ]
  },
  {
   "cell_type": "code",
   "execution_count": 50,
   "metadata": {},
   "outputs": [
    {
     "data": {
      "text/plain": [
       "(1.0, 1.81)"
      ]
     },
     "execution_count": 50,
     "metadata": {},
     "output_type": "execute_result"
    }
   ],
   "source": [
    "# Bootstrap to check difference of means crossing zero to see if we get the same result. Also calculate 95%\n",
    "#    confidence interval. Specify a random seed so answer will be consistent. \n",
    "# Calculate difference in means of bootstrap replicates of prediabetic AST and non-diabetic AST charges. \n",
    "n_reps = 10000\n",
    "np.random.seed(47)\n",
    "diff_mean_reps = np.empty(n_reps)\n",
    "\n",
    "nodiab_mean_reps = np.empty(n_reps)\n",
    "prediab_mean_reps = np.empty(n_reps)\n",
    "\n",
    "for i in range(n_reps):\n",
    "    # Create bootstrap replicates for means of no diabetes and prediabetes values. \n",
    "    nodiab_mean_reps[i] = np.mean(np.random.choice(nodiab, len(nodiab)))\n",
    "    prediab_mean_reps[i] = np.mean(np.random.choice(prediab, len(prediab)))\n",
    "    \n",
    "# Calculate difference in means. \n",
    "diff_mean_reps = prediab_mean_reps - nodiab_mean_reps\n",
    "\n",
    "# Calculate 95% confidence interval. \n",
    "conf_int_low_mean, conf_int_high_mean = np.percentile(diff_mean_reps, [2.5, 97.5])\n",
    "np.round(conf_int_low_mean, 2), np.round(conf_int_high_mean, 2)"
   ]
  },
  {
   "cell_type": "markdown",
   "metadata": {},
   "source": [
    "__The bootstrap test with 10,000 replicates indicates a 95% chance the prediabetic AST mean is 1.0 - 1.81 U/L higher than the non-diabetic mean.__"
   ]
  },
  {
   "cell_type": "code",
   "execution_count": null,
   "metadata": {},
   "outputs": [],
   "source": []
  }
 ],
 "metadata": {
  "kernelspec": {
   "display_name": "Python 3",
   "language": "python",
   "name": "python3"
  },
  "language_info": {
   "codemirror_mode": {
    "name": "ipython",
    "version": 3
   },
   "file_extension": ".py",
   "mimetype": "text/x-python",
   "name": "python",
   "nbconvert_exporter": "python",
   "pygments_lexer": "ipython3",
   "version": "3.7.3"
  }
 },
 "nbformat": 4,
 "nbformat_minor": 2
}
